{
  "nbformat": 4,
  "nbformat_minor": 0,
  "metadata": {
    "colab": {
      "provenance": []
    },
    "kernelspec": {
      "name": "python3",
      "display_name": "Python 3"
    },
    "language_info": {
      "name": "python"
    }
  },
  "cells": [
    {
      "cell_type": "code",
      "source": [
        "#Abreviatura y clave de Estado\n",
        "AC = {\"AGUASCALIENTES\": [\"01\",\"AS\"], \"BAJA CALIFORNIA\": [\"02\",\"BC\"], \"BAJA CALIFORNIA  SUR\": [\"03\",\"BS\"], \"CAMPECHE\": [\"04\",\"CC\"], \" COAHUILA\": [\"05\",\"CL\"],\n",
        "         \"COLIMA\": [\"06\",\"CM\"], \"CHIAPAS\": [\"07\",\"CS\"], \"CHIHUAHUA\": [\"08\",\"CH\"], \"DISTRITO FEDERAL\": [\"09\",\"DF\"], \"DURANGO\": [\"10\",\"DG\"],\"GUANAJUATO\": [\"11\",\"GT\"],\n",
        "         \"GUERRERO\": [\"12\",\"GR\"], \"HIDALGO\": [\"13\",\"HG\"], \"JALISCO\": [\"14\",\"JC\"],\"MÉXICO\": [\"15\",\"MC\"], \"MICHOACAN\": [\"16\",\"MN\"],\"MORELOS\": [\"17\",\"MS\"],\"NAYARIT\": [\"18\",\"NT\"],\n",
        "         \"NUEVO LEÓN\": [\"19\",\"NL\"], \"OAXACA\": [\"20\",\"OC\"],\"PUEBLA\": [\"21\",\"PL\"],\"QUERÉTARO\": [\"22\",\"QT\"],\"QUINTANA ROO\": [\"23\",\"QT\"],\"SAN LUIS POTOSÍ\": [\"24\",\"SP\"],\"SINALOA\": [\"25\",\"SL\"],\n",
        "         \"SONORA\": [\"26\",\"SR\"],\"TABASCO\": [\"27\",\"TC\"],\"TAMAULIPAS\": [\"28\",\"TS\"],\"TLAXCALA\": [\"29\",\"TL\"],\"VERACRUZ\": [\"30\",\"VZ\"],\"YUCATÁN\": [\"31\",\"YN\"],\"ZACATECAS\": [\"32\",\"ZS\"], \"EXTRANJERO\": [\"36\",\"NE\"]}\n",
        "\n",
        "MESES = {\"ENERO\": \"01\",\"FEBRERO\": \"02\",\"MARZO\": \"03\",\"ABRIL\": \"04\",\"MAYO\": \"05\",\"JUNIO\": \"06\",\"JULIO\": \"07\",\"AGOSTO\": \"08\",\"SEPTIEMBRE\": \"09\",\n",
        "         \"OCTUBRE\": \"10\", \"NOVIEMBRE\": \"11\",\"DICIEMBRE\": \"12\"}"
      ],
      "metadata": {
        "id": "V-kRTLyaRoGD"
      },
      "execution_count": 1,
      "outputs": []
    },
    {
      "cell_type": "code",
      "source": [
        "def curp ( Nombre, Año, Género, Estado):\n",
        "  CURP = []\n",
        "  CURP.append(P[0])#Primera letra del AP\n",
        "  for v in P[1:]:#Vocal del AP\n",
        "    if v in vocales:\n",
        "      CURP.append(v)\n",
        "      break\n",
        "  CURP.append(Ma[0])\n",
        "  if len(d) > 1: #Rectricción para María y José\n",
        "    if g == \"MUJER\":\n",
        "      if \"MARIA\" == d[0]:\n",
        "        CURP.append(d[1][0])\n",
        "      else:\n",
        "        CURP.append(d[0][0])\n",
        "    else:\n",
        "      if \"JOSE\" == d[0]:\n",
        "        CURP.append(d[1][0])\n",
        "      else:\n",
        "        CURP.append(d[0][0])\n",
        "  else:\n",
        "    CURP.append(No[0])\n",
        "  CURP.append(Ñ[2:])\n",
        "  for z in MESES: #Agrega el numero del mes\n",
        "    if z == S:\n",
        "      CURP.append(MESES[z])\n",
        "  CURP.append(D) #Agrega hasta día de nacimiento\n",
        "  if g == \"MUJER\":\n",
        "    CURP.append(\"M\")\n",
        "  else:\n",
        "    CURP.append(\"H\")\n",
        "  for n in AC:#Abreviatura del Estado\n",
        "    if n == Es:\n",
        "        Valor = AC[n]\n",
        "        CURP.append(Valor[1])\n",
        "  for v in P[1:]:#Consonante del AP\n",
        "    if v not in vocales:\n",
        "      CURP.append(v)\n",
        "      break\n",
        "  for v in Ma[1:]:#Consonante del AM\n",
        "    if v not in vocales:\n",
        "      CURP.append(v)\n",
        "      break\n",
        "  for v in No[1:]:#Consonante del N\n",
        "    if v not in vocales:\n",
        "      CURP.append(v)\n",
        "      break\n",
        "  return \"\".join(CURP)\n"
      ],
      "metadata": {
        "id": "16W2kbV3n4w8"
      },
      "execution_count": 2,
      "outputs": []
    },
    {
      "cell_type": "code",
      "source": [
        "def rfc (Nombre, Año, Genero, Estado):\n",
        "  RFC = []\n",
        "  RFC.append(P[0])#Primera letra del AP\n",
        "  for v in P[1:]:#Vocal del AP\n",
        "    if v in vocales:\n",
        "      RFC.append(v)\n",
        "      break\n",
        "  RFC.append(Ma[0] + No[0]+ Ñ[2:])\n",
        "  for n in MESES: #Agrega el numero del mes\n",
        "    if n == S:\n",
        "      RFC.append(MESES[n])\n",
        "  RFC.append(D)\n",
        "  return \"\".join(RFC)\n"
      ],
      "metadata": {
        "id": "HBkPc7QGsmls"
      },
      "execution_count": 3,
      "outputs": []
    },
    {
      "cell_type": "code",
      "source": [
        "def elector ( Nombre, Año, Género, Estado):\n",
        "  Elector = []\n",
        "  Elector.append(P[0])\n",
        "  for v in P[1:]:#Consonante del AP\n",
        "    if v not in vocales:\n",
        "      Elector.append(v)\n",
        "      break\n",
        "  Elector.append(Ma[0])\n",
        "  for v in Ma[1:]:#Consonante del AM\n",
        "    if v not in vocales:\n",
        "      Elector.append(v)\n",
        "      break\n",
        "  ct_2 = 0\n",
        "  for v in No:#Consonante del N\n",
        "    if v not in vocales:\n",
        "      Elector.append(v)\n",
        "      ct_2 += 1\n",
        "      if ct_2 == 2:\n",
        "        break\n",
        "  Elector.append(Ñ[2:])\n",
        "  for n in MESES: #Agrega el numero del mes\n",
        "    if n == S:\n",
        "      Elector.append(MESES[n])\n",
        "  Elector.append(D)\n",
        "  for n in AC:#Clave del Estado\n",
        "    if n == Es:\n",
        "        Valor = AC[n]\n",
        "        Elector.append(Valor[0])\n",
        "  if g == \"MUJER\":#Genéro\n",
        "    Elector.append(\"M\")\n",
        "  else:\n",
        "    Elector.append(\"H\")\n",
        "\n",
        "  return \"\".join(Elector)\n"
      ],
      "metadata": {
        "id": "ZSt7OSf5yTgX"
      },
      "execution_count": 4,
      "outputs": []
    },
    {
      "cell_type": "code",
      "execution_count": 5,
      "metadata": {
        "id": "MIFTTbKXs6of",
        "colab": {
          "base_uri": "https://localhost:8080/"
        },
        "outputId": "c6539df6-7462-44a8-e55a-074c2ecea572"
      },
      "outputs": [
        {
          "output_type": "stream",
          "name": "stdout",
          "text": [
            "********Menú********\n",
            "1.- CURP \n",
            "2.- RFC \n",
            "3.- Clave de Elector\n",
            "\n",
            "\n",
            "Elige una opción del menú: 2\n",
            "\n",
            "\n",
            "Ingresa tu nombre de la siguiente forma PATERNO MATERNO NOMBRE: RODRIGUEZ GONZALEZ PATRICIO\n",
            "Ingresa tu fecha de nacimiento, de la siguinte forma DD/MM/AAAA: 15/08/1977\n",
            "Ingresa tu género HOMBRE/MUJER: HOMBRE\n",
            "Ingresa tu estado de nacimiento. Si eres extranjero, escribe EXTRANJERO: BAJA CALIFORNIA\n",
            "\n",
            "\n",
            "ROGP7715\n"
          ]
        }
      ],
      "source": [
        "nombre, cumpleaños, vocales = [\"PATERNO\",\"MATERNO\",\"NOMBRE\"], [\"DÍA\",\"MES\",\"AÑO\"], [\"A\",\"E\",\"I\",\"O\",\"U\"]\n",
        "N, F = {}, {}\n",
        "print(\"Menú\".center(20,\"*\"))\n",
        "print(\"1.- CURP \\n2.- RFC \\n3.- Clave de Elector\")\n",
        "while True:\n",
        "  try:\n",
        "    print(\"\\n\")\n",
        "    op = int(input(\"Elige una opción del menú: \"))\n",
        "    if op >= 1 and op <= 3:\n",
        "      break\n",
        "  except:\n",
        "    continue\n",
        "print(\"\\n\")\n",
        "while True:\n",
        "  Nombre = input(\"Ingresa tu nombre de la siguiente forma PATERNO MATERNO NOMBRE: \")\n",
        "  Año = input(\"Ingresa tu fecha de nacimiento, de la siguinte forma DD/MM/AAAA: \")\n",
        "  Genero = input(\"Ingresa tu género HOMBRE/MUJER: \")\n",
        "  Estado = input(\"Ingresa tu estado de nacimiento. Si eres extranjero, escribe EXTRANJERO: \")\n",
        "  a = Nombre.upper()\n",
        "  b = list(a.split(\" \",2))\n",
        "  c, g, Es ,d = list(Año.split(\"/\")), Genero.upper(),  Estado.upper(), b[2].split()\n",
        "  i = 0\n",
        "  while i < 3: #Nombre\n",
        "     N[nombre[i]]= list(b[i])\n",
        "     F[cumpleaños[i]]= c[i]\n",
        "     i += 1\n",
        "  P, Ma , No, Ñ, M, D = N.get(\"PATERNO\"), N.get(\"MATERNO\"), N.get(\"NOMBRE\"), F.get(\"AÑO\"), F.get(\"MES\"), F.get(\"DÍA\")\n",
        "  S = M.upper()\n",
        "  if Es not in AC:\n",
        "    print(\"La entrada no es válida, vuelve a intentarlo\")\n",
        "    continue\n",
        "  else:\n",
        "    break\n",
        "\n",
        "print(\"\\n\")\n",
        "if op == 1:\n",
        " print( curp(Nombre, Año, Genero, Estado))\n",
        "elif op == 2:\n",
        "  print(rfc(Nombre, Año, Genero, Estado))\n",
        "elif op == 3:\n",
        "  print(elector(Nombre, Año, Genero, Estado))\n"
      ]
    }
  ]
}