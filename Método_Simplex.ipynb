{
  "cells": [
    {
      "cell_type": "code",
      "execution_count": null,
      "metadata": {
        "colab": {
          "base_uri": "https://localhost:8080/"
        },
        "id": "H2vupUfk3cIE",
        "outputId": "ffd698f9-faec-4315-fad8-a659074edebe"
      },
      "outputs": [
        {
          "output_type": "stream",
          "name": "stdout",
          "text": [
            "Requirement already satisfied: tabulate in /usr/local/lib/python3.10/dist-packages (0.9.0)\n"
          ]
        }
      ],
      "source": [
        "#Libraries\n",
        "import numpy as np\n",
        "!pip install tabulate"
      ]
    },
    {
      "cell_type": "code",
      "execution_count": null,
      "metadata": {
        "id": "VdM7dS4uOGX6"
      },
      "outputs": [],
      "source": [
        "def gauss(matrix,pivot,rango):#pivot should a list and range should an interger\n",
        "  try:\n",
        "    pivote = 1/matrix.item(pivot[0],pivot[1])\n",
        "    matrix[pivot[0],:] *= pivote\n",
        "    for i in range(pivot[0]+1,rango):\n",
        "      cero_d = matrix[pivot[0],:]*(-1)*matrix.item(i,pivot[1])#make zeros down CHECK MINUS SING\n",
        "      matrix[i,:] += cero_d\n",
        "    for j in range(0,pivot[0]):\n",
        "      cero_u = matrix[pivot[0],:]*(-1)*matrix.item(j,pivot[1])#make zeros up\n",
        "      matrix[j,:] += cero_u\n",
        "  except:\n",
        "    print('El pivote no puede ser cero')\n",
        "  return matrix"
      ]
    },
    {
      "cell_type": "code",
      "execution_count": null,
      "metadata": {
        "id": "IUQxTUUTG-u2"
      },
      "outputs": [],
      "source": [
        "def table_1(matrix,b,f,pivote,f_1,base):\n",
        "  headers,m,n,l_4,pivote_1 = ['Base','C','b','p'],matrix.shape[0],matrix.shape[1],['r',' '],[]\n",
        "  L_1 = gauss(matrix,pivote,m)\n",
        "  [l_4.append(f[k]-(np.dot(f_1,matrix[:,k]))) for k in range(len(f))]#r\n",
        "  r = l_4[2:].index(min(l_4[2:]))#Choose minium value in r\n",
        "  r_d = L_1[:, -1] / L_1[:, r]#Column p\n",
        "  arr = np.column_stack((L_1, r_d))\n",
        "  n_n = np.where(arr[:, -1]>= 0)[0]#Take index only positive numbers\n",
        "  pivote_1 = (n_n[np.argmin(arr[:, -1][n_n])],r)\n",
        "  k_0 = np.hstack((np.resize(np.array(base),(m,1)),np.resize(np.array(f_1),(m,1)),arr))\n",
        "  l_4.append(float((-1)*np.dot(f_1,np.resize(L_1[:, n-1],(m,)))))#value b in r\n",
        "  f_1[pivote_1[0]] = f[r]\n",
        "  l_4.append(0.0)\n",
        "  [headers.insert(-2,f'a{k+1}') for k in range(matrix.shape[1]-1)]\n",
        "  k_1 = np.vstack((k_0,np.array(l_4)))\n",
        "  base[pivote_1[0]] = f'a{r+1}'#Change a base\n",
        "  return [k_1,headers,L_1,f_1,np.resize(L_1[:, n-1],(m,)),pivote_1,min(l_4[2:-1]),base,arr]"
      ]
    },
    {
      "cell_type": "code",
      "execution_count": null,
      "metadata": {
        "colab": {
          "base_uri": "https://localhost:8080/"
        },
        "id": "zPED-XS_O6s8",
        "outputId": "d804dbea-7587-4c55-ca4a-f10fd767bca6"
      },
      "outputs": [
        {
          "output_type": "stream",
          "name": "stdout",
          "text": [
            "╔════════╦═════╦══════╦══════╦══════╦══════╦══════╦═════╦═════╗\n",
            "║ Base   ║ C   ║   a1 ║   a2 ║   a3 ║   a4 ║   a5 ║   b ║   p ║\n",
            "╠════════╬═════╬══════╬══════╬══════╬══════╬══════╬═════╬═════╣\n",
            "║ a1     ║ 0   ║    1 ║    0 ║    0 ║    1 ║    1 ║  16 ║  16 ║\n",
            "║ a2     ║ 0   ║    0 ║    1 ║    0 ║    1 ║    0 ║  10 ║  10 ║\n",
            "║ a3     ║ 0   ║    0 ║    0 ║    1 ║    0 ║    1 ║  10 ║ inf ║\n",
            "║ r      ║     ║    0 ║    0 ║    0 ║   -3 ║   -2 ║  -0 ║   0 ║\n",
            "╚════════╩═════╩══════╩══════╩══════╩══════╩══════╩═════╩═════╝\n",
            "╔════════╦═════╦══════╦══════╦══════╦══════╦══════╦═════╦═════╗\n",
            "║ Base   ║ C   ║   a1 ║   a2 ║   a3 ║   a4 ║   a5 ║   b ║   p ║\n",
            "╠════════╬═════╬══════╬══════╬══════╬══════╬══════╬═════╬═════╣\n",
            "║ a1     ║ 0   ║    1 ║   -1 ║    0 ║    0 ║    1 ║   6 ║   6 ║\n",
            "║ a4     ║ -3  ║    0 ║    1 ║    0 ║    1 ║    0 ║  10 ║ inf ║\n",
            "║ a3     ║ 0   ║    0 ║    0 ║    1 ║    0 ║    1 ║  10 ║  10 ║\n",
            "║ r      ║     ║    0 ║    3 ║    0 ║    0 ║   -2 ║  30 ║   0 ║\n",
            "╚════════╩═════╩══════╩══════╩══════╩══════╩══════╩═════╩═════╝\n",
            "╔════════╦═════╦══════╦══════╦══════╦══════╦══════╦═════╦═════╗\n",
            "║ Base   ║ C   ║   a1 ║   a2 ║   a3 ║   a4 ║   a5 ║   b ║   p ║\n",
            "╠════════╬═════╬══════╬══════╬══════╬══════╬══════╬═════╬═════╣\n",
            "║ a5     ║ -2  ║    1 ║   -1 ║    0 ║    0 ║    1 ║   6 ║ inf ║\n",
            "║ a4     ║ -3  ║    0 ║    1 ║    0 ║    1 ║    0 ║  10 ║ inf ║\n",
            "║ a3     ║ 0   ║   -1 ║    1 ║    1 ║    0 ║    0 ║   4 ║   4 ║\n",
            "║ r      ║     ║    2 ║    1 ║    0 ║    0 ║    0 ║  42 ║   0 ║\n",
            "╚════════╩═════╩══════╩══════╩══════╩══════╩══════╩═════╩═════╝\n"
          ]
        },
        {
          "output_type": "stream",
          "name": "stderr",
          "text": [
            "<ipython-input-55-8bca6fa22da3>:6: RuntimeWarning: divide by zero encountered in divide\n",
            "  r_d = L_1[:, -1] / L_1[:, r]#Column p\n"
          ]
        }
      ],
      "source": [
        "#Code structure\n",
        "from tabulate import tabulate\n",
        "B = np.array([[1,1],\n",
        "              [1,0],\n",
        "              [0,1]], dtype = np.float64)\n",
        "b = np.array([[16],\n",
        "              [10],\n",
        "              [10]], dtype = np.float64)\n",
        "f = [0,0,0,-3,-2]\n",
        "base,y_1 = [],B.shape[0]\n",
        "[base.append(f'a{k+1}') for k in range(y_1)]#Define vector base\n",
        "\n",
        "pivote = (0,0)\n",
        "[a,c,d,e,g,t,l,m,m_0] = table_1(np.hstack((np.eye(y_1),B,b)),b,f,pivote,f[:y_1],base)\n",
        "print(tabulate(a, headers = c, tablefmt = \"double_outline\"))\n",
        "\n",
        "while l<0:\n",
        "  [a_0,c_0,d_0,e_0,g_0,t_0,l_0,m_0,m_1] = table_1(d,g,f,t,e,m)\n",
        "  print(tabulate(a_0, headers = c_0, tablefmt = \"double_outline\"))\n",
        "  a,c,d,e,g,t,l,m = a_0,c_0,d_0,e_0,g_0,t_0,l_0,m_0"
      ]
    },
    {
      "cell_type": "code",
      "source": [
        "#Code structure\n",
        "from tabulate import tabulate\n",
        "B = np.array([[1,1,0,0],\n",
        "              [1,0,1,0],\n",
        "              [0,1,0,1]], dtype = np.float64)\n",
        "b = np.array([[2],\n",
        "              [1],\n",
        "              [1.5]], dtype = np.float64)\n",
        "f = [0,0,0,0,1,1,1]\n",
        "base,y_1 = [],B.shape[0]\n",
        "[base.append(f'a{k+1}') for k in range(y_1)]#Define vector base\n",
        "\n",
        "pivote = (0,4)\n",
        "[a,c,d,e,g,t,l,m,m_0] = table_1(np.hstack((B,np.eye(y_1),b)),b,f,pivote,[1,1,1],base)\n",
        "print(tabulate(a, headers = c, tablefmt = \"double_outline\"))\n",
        "\n",
        "while l<0:\n",
        "  [a_0,c_0,d_0,e_0,g_0,t_0,l_0,m_0,m_1] = table_1(d,g,f,t,e,m)\n",
        "  print(tabulate(a_0, headers = c_0, tablefmt = \"double_outline\"))\n",
        "  a,c,d,e,g,t,l,m = a_0,c_0,d_0,e_0,g_0,t_0,l_0,m_0"
      ],
      "metadata": {
        "colab": {
          "base_uri": "https://localhost:8080/"
        },
        "id": "23fHmTilKPOC",
        "outputId": "2cc3484e-0822-4dea-efb6-9427d1996e46"
      },
      "execution_count": null,
      "outputs": [
        {
          "output_type": "stream",
          "name": "stdout",
          "text": [
            "╔════════╦═════╦══════╦══════╦══════╦══════╦══════╦══════╦══════╦══════╦═════╗\n",
            "║ Base   ║ C   ║   a1 ║   a2 ║   a3 ║   a4 ║   a5 ║   a6 ║   a7 ║    b ║   p ║\n",
            "╠════════╬═════╬══════╬══════╬══════╬══════╬══════╬══════╬══════╬══════╬═════╣\n",
            "║ a1     ║ 1   ║    1 ║    1 ║    0 ║    0 ║    1 ║    0 ║    0 ║  2   ║   2 ║\n",
            "║ a2     ║ 1   ║    1 ║    0 ║    1 ║    0 ║    0 ║    1 ║    0 ║  1   ║   1 ║\n",
            "║ a3     ║ 1   ║    0 ║    1 ║    0 ║    1 ║    0 ║    0 ║    1 ║  1.5 ║ inf ║\n",
            "║ r      ║     ║   -2 ║   -2 ║   -1 ║   -1 ║    0 ║    0 ║    0 ║ -4.5 ║   0 ║\n",
            "╚════════╩═════╩══════╩══════╩══════╩══════╩══════╩══════╩══════╩══════╩═════╝\n",
            "╔════════╦═════╦══════╦══════╦══════╦══════╦══════╦══════╦══════╦══════╦═══════╗\n",
            "║ Base   ║ C   ║   a1 ║   a2 ║   a3 ║   a4 ║   a5 ║   a6 ║   a7 ║    b ║     p ║\n",
            "╠════════╬═════╬══════╬══════╬══════╬══════╬══════╬══════╬══════╬══════╬═══════╣\n",
            "║ a1     ║ 1   ║    0 ║    1 ║   -1 ║    0 ║    1 ║   -1 ║    0 ║  1   ║   1   ║\n",
            "║ a1     ║ 0   ║    1 ║    0 ║    1 ║    0 ║    0 ║    1 ║    0 ║  1   ║ inf   ║\n",
            "║ a3     ║ 1   ║    0 ║    1 ║    0 ║    1 ║    0 ║    0 ║    1 ║  1.5 ║   1.5 ║\n",
            "║ r      ║     ║    0 ║   -2 ║    1 ║   -1 ║    0 ║    2 ║    0 ║ -2.5 ║   0   ║\n",
            "╚════════╩═════╩══════╩══════╩══════╩══════╩══════╩══════╩══════╩══════╩═══════╝\n",
            "╔════════╦═════╦══════╦══════╦══════╦══════╦══════╦══════╦══════╦══════╦══════╗\n",
            "║ Base   ║ C   ║   a1 ║   a2 ║   a3 ║   a4 ║   a5 ║   a6 ║   a7 ║    b ║    p ║\n",
            "╠════════╬═════╬══════╬══════╬══════╬══════╬══════╬══════╬══════╬══════╬══════╣\n",
            "║ a2     ║ 0   ║    0 ║    1 ║   -1 ║    0 ║    1 ║   -1 ║    0 ║  1   ║ -1   ║\n",
            "║ a1     ║ 0   ║    1 ║    0 ║    1 ║    0 ║    0 ║    1 ║    0 ║  1   ║  1   ║\n",
            "║ a3     ║ 1   ║    0 ║    0 ║    1 ║    1 ║   -1 ║    1 ║    1 ║  0.5 ║  0.5 ║\n",
            "║ r      ║     ║    0 ║    0 ║   -1 ║   -1 ║    2 ║    0 ║    0 ║ -0.5 ║  0   ║\n",
            "╚════════╩═════╩══════╩══════╩══════╩══════╩══════╩══════╩══════╩══════╩══════╝\n",
            "╔════════╦═════╦══════╦══════╦══════╦══════╦══════╦══════╦══════╦══════╦═══════╗\n",
            "║ Base   ║ C   ║   a1 ║   a2 ║   a3 ║   a4 ║   a5 ║   a6 ║   a7 ║    b ║     p ║\n",
            "╠════════╬═════╬══════╬══════╬══════╬══════╬══════╬══════╬══════╬══════╬═══════╣\n",
            "║ a2     ║ 0   ║    0 ║    1 ║    0 ║    1 ║    0 ║    0 ║    1 ║  1.5 ║ inf   ║\n",
            "║ a1     ║ 0   ║    1 ║    0 ║    0 ║   -1 ║    1 ║    0 ║   -1 ║  0.5 ║   0.5 ║\n",
            "║ a3     ║ 0   ║    0 ║    0 ║    1 ║    1 ║   -1 ║    1 ║    1 ║  0.5 ║ inf   ║\n",
            "║ r      ║     ║    0 ║    0 ║    0 ║    0 ║    1 ║    1 ║    1 ║ -0   ║   0   ║\n",
            "╚════════╩═════╩══════╩══════╩══════╩══════╩══════╩══════╩══════╩══════╩═══════╝\n"
          ]
        },
        {
          "output_type": "stream",
          "name": "stderr",
          "text": [
            "<ipython-input-55-8bca6fa22da3>:6: RuntimeWarning: divide by zero encountered in divide\n",
            "  r_d = L_1[:, -1] / L_1[:, r]#Column p\n"
          ]
        }
      ]
    }
  ],
  "metadata": {
    "colab": {
      "provenance": []
    },
    "kernelspec": {
      "display_name": "Python 3",
      "name": "python3"
    },
    "language_info": {
      "name": "python"
    }
  },
  "nbformat": 4,
  "nbformat_minor": 0
}